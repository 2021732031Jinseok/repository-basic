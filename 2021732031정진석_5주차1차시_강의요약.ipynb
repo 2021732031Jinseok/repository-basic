{
  "nbformat": 4,
  "nbformat_minor": 0,
  "metadata": {
    "colab": {
      "provenance": [],
      "mount_file_id": "1n9gp-3uZ0svlHCDxjJgh6AO-Lx9cdtJL",
      "authorship_tag": "ABX9TyOA0gZiY9LviWCSltb1ooTJ",
      "include_colab_link": true
    },
    "kernelspec": {
      "name": "python3",
      "display_name": "Python 3"
    },
    "language_info": {
      "name": "python"
    }
  },
  "cells": [
    {
      "cell_type": "markdown",
      "metadata": {
        "id": "view-in-github",
        "colab_type": "text"
      },
      "source": [
        "<a href=\"https://colab.research.google.com/github/2021732031Jinseok/repository-basic/blob/main/2021732031%EC%A0%95%EC%A7%84%EC%84%9D_5%EC%A3%BC%EC%B0%A81%EC%B0%A8%EC%8B%9C_%EA%B0%95%EC%9D%98%EC%9A%94%EC%95%BD.ipynb\" target=\"_parent\"><img src=\"https://colab.research.google.com/assets/colab-badge.svg\" alt=\"Open In Colab\"/></a>"
      ]
    },
    {
      "cell_type": "markdown",
      "source": [
        "# 5주차 1차시 강의 내용 요약  \n",
        "![이미지1](https://github.com/2021732031Jinseok/repository-basic/blob/ccd71ae1fa1cad82402d904fa42d18ecf5110dff/5-1-1.png?raw=true)  \n",
        "![이미지2](https://github.com/2021732031Jinseok/repository-basic/blob/ccd71ae1fa1cad82402d904fa42d18ecf5110dff/5-1-2.png?raw=true)\n",
        "![이미지3](https://github.com/2021732031Jinseok/repository-basic/blob/ccd71ae1fa1cad82402d904fa42d18ecf5110dff/5-1-3.png?raw=true)\n",
        "![이미지4](https://github.com/2021732031Jinseok/repository-basic/blob/ccd71ae1fa1cad82402d904fa42d18ecf5110dff/5-1-4.png?raw=true)\n",
        "![이미지5](https://github.com/2021732031Jinseok/repository-basic/blob/ccd71ae1fa1cad82402d904fa42d18ecf5110dff/5-1-5.png?raw=true)\n",
        "![이미지6](https://github.com/2021732031Jinseok/repository-basic/blob/ccd71ae1fa1cad82402d904fa42d18ecf5110dff/5-1-6.png?raw=true)\n",
        "![이미지7](https://github.com/2021732031Jinseok/repository-basic/blob/ccd71ae1fa1cad82402d904fa42d18ecf5110dff/5-1-7.png?raw=true)\n",
        "![이미지8](https://github.com/2021732031Jinseok/repository-basic/blob/ccd71ae1fa1cad82402d904fa42d18ecf5110dff/5-1-8.png?raw=true)\n",
        "\n"
      ],
      "metadata": {
        "id": "xyyd4bzYGKTh"
      }
    },
    {
      "cell_type": "code",
      "source": [],
      "metadata": {
        "id": "cwp6NlBOO2uc"
      },
      "execution_count": null,
      "outputs": []
    }
  ]
}